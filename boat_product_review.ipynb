{
 "cells": [
  {
   "cell_type": "code",
   "execution_count": 51,
   "metadata": {},
   "outputs": [],
   "source": [
    "import numpy as np\n",
    "import pandas as pd\n",
    "import matplotlib.pyplot as plt\n",
    "import seaborn as sns\n",
    "import re"
   ]
  },
  {
   "cell_type": "code",
   "execution_count": 52,
   "metadata": {},
   "outputs": [],
   "source": [
    "boat_review_df = pd.read_csv(\"/home/raghu/Downloads/Datasets/boat_product/BoatProduct.csv\")"
   ]
  },
  {
   "cell_type": "code",
   "execution_count": 53,
   "metadata": {},
   "outputs": [
    {
     "name": "stdout",
     "output_type": "stream",
     "text": [
      "<class 'pandas.core.frame.DataFrame'>\n",
      "RangeIndex: 1449 entries, 0 to 1448\n",
      "Data columns (total 7 columns):\n",
      " #   Column           Non-Null Count  Dtype \n",
      "---  ------           --------------  ----- \n",
      " 0   ProductName      1449 non-null   object\n",
      " 1   ProductPrice     1448 non-null   object\n",
      " 2   Discount         1448 non-null   object\n",
      " 3   NumberofReviews  1448 non-null   object\n",
      " 4   Rate             1448 non-null   object\n",
      " 5   Review           874 non-null    object\n",
      " 6   Summary          1448 non-null   object\n",
      "dtypes: object(7)\n",
      "memory usage: 79.4+ KB\n"
     ]
    }
   ],
   "source": [
    "boat_review_df.info()"
   ]
  },
  {
   "cell_type": "code",
   "execution_count": 54,
   "metadata": {},
   "outputs": [
    {
     "data": {
      "text/html": [
       "<div>\n",
       "<style scoped>\n",
       "    .dataframe tbody tr th:only-of-type {\n",
       "        vertical-align: middle;\n",
       "    }\n",
       "\n",
       "    .dataframe tbody tr th {\n",
       "        vertical-align: top;\n",
       "    }\n",
       "\n",
       "    .dataframe thead th {\n",
       "        text-align: right;\n",
       "    }\n",
       "</style>\n",
       "<table border=\"1\" class=\"dataframe\">\n",
       "  <thead>\n",
       "    <tr style=\"text-align: right;\">\n",
       "      <th></th>\n",
       "      <th>ProductName</th>\n",
       "      <th>ProductPrice</th>\n",
       "      <th>Discount</th>\n",
       "      <th>NumberofReviews</th>\n",
       "      <th>Rate</th>\n",
       "      <th>Review</th>\n",
       "      <th>Summary</th>\n",
       "    </tr>\n",
       "  </thead>\n",
       "  <tbody>\n",
       "    <tr>\n",
       "      <th>0</th>\n",
       "      <td>Stone 1000v2</td>\n",
       "      <td>\\nSale price₹ 3,999</td>\n",
       "      <td>43% off</td>\n",
       "      <td>7 reviews</td>\n",
       "      <td>★\\n  5.0\\n</td>\n",
       "      <td>Fantastic product</td>\n",
       "      <td>Very good product in this price range..</td>\n",
       "    </tr>\n",
       "    <tr>\n",
       "      <th>1</th>\n",
       "      <td>Stone 1000v2</td>\n",
       "      <td>Sale price₹ 3,999</td>\n",
       "      <td>43% off</td>\n",
       "      <td>7 reviews</td>\n",
       "      <td>★\\n  5.0\\n</td>\n",
       "      <td>Outstanding</td>\n",
       "      <td>Outstanding Product</td>\n",
       "    </tr>\n",
       "    <tr>\n",
       "      <th>2</th>\n",
       "      <td>Stone 1000v2</td>\n",
       "      <td>\\nSale price₹ 3,999</td>\n",
       "      <td>43% off</td>\n",
       "      <td>7 reviews</td>\n",
       "      <td>★\\n  5.0\\n</td>\n",
       "      <td>Awesome</td>\n",
       "      <td>Works like a charm. Good sound quality. Visual...</td>\n",
       "    </tr>\n",
       "    <tr>\n",
       "      <th>3</th>\n",
       "      <td>Stone 1000v2</td>\n",
       "      <td>\\nSale price₹ 3,999</td>\n",
       "      <td>43% off</td>\n",
       "      <td>7 reviews</td>\n",
       "      <td>★\\n  5.0\\n</td>\n",
       "      <td>Boat stone 1000 v2</td>\n",
       "      <td>Great</td>\n",
       "    </tr>\n",
       "    <tr>\n",
       "      <th>4</th>\n",
       "      <td>Stone 1000v2</td>\n",
       "      <td>\\nSale price₹ 3,999</td>\n",
       "      <td>43% off</td>\n",
       "      <td>7 reviews</td>\n",
       "      <td>★\\n  5.0\\n</td>\n",
       "      <td>Quality sound</td>\n",
       "      <td>Amazing sound quality.totally premium.&amp;.afford...</td>\n",
       "    </tr>\n",
       "  </tbody>\n",
       "</table>\n",
       "</div>"
      ],
      "text/plain": [
       "      ProductName         ProductPrice Discount NumberofReviews  \\\n",
       "0   Stone 1000v2   \\nSale price₹ 3,999  43% off       7 reviews   \n",
       "1   Stone 1000v2     Sale price₹ 3,999  43% off       7 reviews   \n",
       "2   Stone 1000v2   \\nSale price₹ 3,999  43% off       7 reviews   \n",
       "3   Stone 1000v2   \\nSale price₹ 3,999  43% off       7 reviews   \n",
       "4   Stone 1000v2   \\nSale price₹ 3,999  43% off       7 reviews   \n",
       "\n",
       "             Rate              Review  \\\n",
       "0  ★\\n  5.0\\n       Fantastic product   \n",
       "1  ★\\n  5.0\\n             Outstanding   \n",
       "2  ★\\n  5.0\\n                 Awesome   \n",
       "3  ★\\n  5.0\\n      Boat stone 1000 v2   \n",
       "4  ★\\n  5.0\\n           Quality sound   \n",
       "\n",
       "                                             Summary  \n",
       "0            Very good product in this price range..  \n",
       "1                                Outstanding Product  \n",
       "2  Works like a charm. Good sound quality. Visual...  \n",
       "3                                              Great  \n",
       "4  Amazing sound quality.totally premium.&.afford...  "
      ]
     },
     "execution_count": 54,
     "metadata": {},
     "output_type": "execute_result"
    }
   ],
   "source": [
    "boat_review_df.head()"
   ]
  },
  {
   "cell_type": "code",
   "execution_count": 55,
   "metadata": {},
   "outputs": [
    {
     "data": {
      "text/plain": [
       "ProductName          0\n",
       "ProductPrice         1\n",
       "Discount             1\n",
       "NumberofReviews      1\n",
       "Rate                 1\n",
       "Review             575\n",
       "Summary              1\n",
       "dtype: int64"
      ]
     },
     "execution_count": 55,
     "metadata": {},
     "output_type": "execute_result"
    }
   ],
   "source": [
    "boat_review_df.isna().sum()"
   ]
  },
  {
   "cell_type": "code",
   "execution_count": 56,
   "metadata": {},
   "outputs": [],
   "source": [
    "boat_review_df = boat_review_df.dropna()"
   ]
  },
  {
   "cell_type": "code",
   "execution_count": 57,
   "metadata": {},
   "outputs": [],
   "source": [
    "boat_review_df.head()\n",
    "boat_review_df.drop(['ProductName'],axis=1,inplace=True)"
   ]
  },
  {
   "cell_type": "code",
   "execution_count": 58,
   "metadata": {},
   "outputs": [],
   "source": [
    "new = boat_review_df['ProductPrice'].str.split(\" \",n = 1, expand = True)\n",
    "boat_review_df['ProductPrice'] = new[1]\n",
    "boat_review_df['ProductPrice'] = boat_review_df[\"ProductPrice\"].str.replace(\"price₹\",'')\n",
    "boat_review_df['ProductPrice'] = boat_review_df['ProductPrice'].str.replace(',','').astype(\"float64\")"
   ]
  },
  {
   "cell_type": "code",
   "execution_count": 59,
   "metadata": {},
   "outputs": [],
   "source": [
    "boat_review_df['ProductPrice']\n",
    "boat_review_df['NumberofReviews'] = boat_review_df['NumberofReviews'].str.split(\" \", n=1, expand = True)[0]\n",
    "boat_review_df['Discount'] = boat_review_df['Discount'].str.split(\"%\",n = 1, expand = True)[0]\n",
    "boat_review_df['Rate'] = boat_review_df['Rate'].str.split(\" \",n=1,expand = True)[1]"
   ]
  },
  {
   "cell_type": "code",
   "execution_count": 60,
   "metadata": {},
   "outputs": [
    {
     "name": "stdout",
     "output_type": "stream",
     "text": [
      "0     Ravi@King\n",
      "1    Raju@Queen\n",
      "2     alex@jack\n",
      "Name: 1, dtype: object\n"
     ]
    }
   ],
   "source": [
    "my_dict = {'name':['Ravi@King','Raju@Queen','alex@jack']}\n",
    "df = pd.DataFrame(data = my_dict)\n",
    "print(df.name.str.split('',n=1,expand=True)[1])"
   ]
  },
  {
   "cell_type": "code",
   "execution_count": 61,
   "metadata": {},
   "outputs": [
    {
     "data": {
      "text/html": [
       "<div>\n",
       "<style scoped>\n",
       "    .dataframe tbody tr th:only-of-type {\n",
       "        vertical-align: middle;\n",
       "    }\n",
       "\n",
       "    .dataframe tbody tr th {\n",
       "        vertical-align: top;\n",
       "    }\n",
       "\n",
       "    .dataframe thead th {\n",
       "        text-align: right;\n",
       "    }\n",
       "</style>\n",
       "<table border=\"1\" class=\"dataframe\">\n",
       "  <thead>\n",
       "    <tr style=\"text-align: right;\">\n",
       "      <th></th>\n",
       "      <th>ProductPrice</th>\n",
       "      <th>Discount</th>\n",
       "      <th>NumberofReviews</th>\n",
       "      <th>Rate</th>\n",
       "      <th>Review</th>\n",
       "      <th>Summary</th>\n",
       "    </tr>\n",
       "  </thead>\n",
       "  <tbody>\n",
       "    <tr>\n",
       "      <th>0</th>\n",
       "      <td>3999.0</td>\n",
       "      <td>43</td>\n",
       "      <td>7</td>\n",
       "      <td>5.0\\n</td>\n",
       "      <td>Fantastic product</td>\n",
       "      <td>Very good product in this price range..</td>\n",
       "    </tr>\n",
       "    <tr>\n",
       "      <th>1</th>\n",
       "      <td>3999.0</td>\n",
       "      <td>43</td>\n",
       "      <td>7</td>\n",
       "      <td>5.0\\n</td>\n",
       "      <td>Outstanding</td>\n",
       "      <td>Outstanding Product</td>\n",
       "    </tr>\n",
       "    <tr>\n",
       "      <th>2</th>\n",
       "      <td>3999.0</td>\n",
       "      <td>43</td>\n",
       "      <td>7</td>\n",
       "      <td>5.0\\n</td>\n",
       "      <td>Awesome</td>\n",
       "      <td>Works like a charm. Good sound quality. Visual...</td>\n",
       "    </tr>\n",
       "    <tr>\n",
       "      <th>3</th>\n",
       "      <td>3999.0</td>\n",
       "      <td>43</td>\n",
       "      <td>7</td>\n",
       "      <td>5.0\\n</td>\n",
       "      <td>Boat stone 1000 v2</td>\n",
       "      <td>Great</td>\n",
       "    </tr>\n",
       "    <tr>\n",
       "      <th>4</th>\n",
       "      <td>3999.0</td>\n",
       "      <td>43</td>\n",
       "      <td>7</td>\n",
       "      <td>5.0\\n</td>\n",
       "      <td>Quality sound</td>\n",
       "      <td>Amazing sound quality.totally premium.&amp;.afford...</td>\n",
       "    </tr>\n",
       "  </tbody>\n",
       "</table>\n",
       "</div>"
      ],
      "text/plain": [
       "   ProductPrice Discount NumberofReviews        Rate              Review  \\\n",
       "0        3999.0       43               7   5.0\\n       Fantastic product   \n",
       "1        3999.0       43               7   5.0\\n             Outstanding   \n",
       "2        3999.0       43               7   5.0\\n                 Awesome   \n",
       "3        3999.0       43               7   5.0\\n      Boat stone 1000 v2   \n",
       "4        3999.0       43               7   5.0\\n           Quality sound   \n",
       "\n",
       "                                             Summary  \n",
       "0            Very good product in this price range..  \n",
       "1                                Outstanding Product  \n",
       "2  Works like a charm. Good sound quality. Visual...  \n",
       "3                                              Great  \n",
       "4  Amazing sound quality.totally premium.&.afford...  "
      ]
     },
     "execution_count": 61,
     "metadata": {},
     "output_type": "execute_result"
    }
   ],
   "source": [
    "boat_review_df.head()"
   ]
  },
  {
   "cell_type": "code",
   "execution_count": 62,
   "metadata": {},
   "outputs": [],
   "source": [
    "import string\n",
    "import spacy\n",
    "import re\n",
    "nlp = spacy.load(\"en_core_web_sm\")\n",
    "from spacy.lang.en.stop_words import STOP_WORDS"
   ]
  },
  {
   "cell_type": "code",
   "execution_count": 63,
   "metadata": {},
   "outputs": [
    {
     "name": "stderr",
     "output_type": "stream",
     "text": [
      "[nltk_data] Downloading package wordnet to /home/raghu/nltk_data...\n",
      "[nltk_data]   Package wordnet is already up-to-date!\n",
      "[nltk_data] Downloading package punkt to /home/raghu/nltk_data...\n",
      "[nltk_data]   Package punkt is already up-to-date!\n",
      "[nltk_data] Downloading package omw-1.4 to /home/raghu/nltk_data...\n",
      "[nltk_data]   Package omw-1.4 is already up-to-date!\n"
     ]
    }
   ],
   "source": [
    "import nltk\n",
    "nltk.download('wordnet')\n",
    "nltk.download('punkt')\n",
    "nltk.download('omw-1.4')\n",
    "from nltk.stem import WordNetLemmatizer\n",
    "from wordcloud import WordCloud,STOPWORDS\n",
    "import spacy\n",
    "from collections import Counter \n",
    "\n",
    "nlp = spacy.load(\"en_core_web_sm\")"
   ]
  },
  {
   "cell_type": "code",
   "execution_count": 65,
   "metadata": {},
   "outputs": [],
   "source": [
    "def preprocess(text,remove_digits = True):\n",
    "    #command to replace all the non-word characters\n",
    "    #all the character other then english alphabet and numeric[0-9] are termed as non_word characters\n",
    "    text = re.sub(\"\\W+\",' ',text)\n",
    "\n",
    "    #for replacing extra spaces\n",
    "    text = re.sub('\\s+',' ',text) \n",
    "\n",
    "    #for replacing all numbers ecept those attached to a word\n",
    "    text = re.sub(\"(?<!\\w)\\d+\", \"\",text)\n",
    "    text = re.sub(\"-(?!\\w)|(?<!\\w)-\", \"\",text)\n",
    "\n",
    "    #removing all the hyphen expect the words\n",
    "    text = text.lower()\n",
    "    #it convert text into lower case\n",
    "\n",
    "    nopunc = [char for char in text if char not in string.punctuation]\n",
    "    nopunc = ''.join(nopunc)\n",
    "\n",
    "    return [word for word in nopunc.split() if word.lower() not in STOP_WORDS]"
   ]
  },
  {
   "cell_type": "code",
   "execution_count": 66,
   "metadata": {},
   "outputs": [],
   "source": [
    "#lemmatize a word means reducing the different form of words into one form\n",
    "#like 'builds','building','built' = build\n",
    "def lemmatize_verbs(words):\n",
    "    lemmatizer = WordNetLemmatizer()\n",
    "    lemmas = []\n",
    "    for word in words:\n",
    "        lemma = lemmatizer.lemmatize(word, pos='v')\n",
    "        lemmas.append(lemma)\n",
    "    return lemmas\n",
    "def lemmatize(words):\n",
    "    lemmas = lemmatize_verbs(words)\n",
    "    return lemmas"
   ]
  },
  {
   "cell_type": "code",
   "execution_count": 67,
   "metadata": {},
   "outputs": [],
   "source": [
    "def listtostring(s):\n",
    "    str1=''\n",
    "    return (str1.join(s))"
   ]
  },
  {
   "cell_type": "code",
   "execution_count": 68,
   "metadata": {},
   "outputs": [],
   "source": [
    "def clean_text(input):\n",
    "    word = preprocess(input)\n",
    "    lemmas = lemmatize(word)\n",
    "    return listtostring(lemmas)"
   ]
  },
  {
   "cell_type": "code",
   "execution_count": 76,
   "metadata": {},
   "outputs": [],
   "source": [
    "boat_review_df['Summary'] = boat_review_df['Summary'].astype('category')   \n",
    "boat_review_df['clean'] = boat_review_df['Summary'].apply(clean_text)  \n",
    "boat_review_df['Discount'] = boat_review_df['Discount'].astype('category')  "
   ]
  },
  {
   "cell_type": "code",
   "execution_count": 78,
   "metadata": {},
   "outputs": [
    {
     "data": {
      "text/html": [
       "<div>\n",
       "<style scoped>\n",
       "    .dataframe tbody tr th:only-of-type {\n",
       "        vertical-align: middle;\n",
       "    }\n",
       "\n",
       "    .dataframe tbody tr th {\n",
       "        vertical-align: top;\n",
       "    }\n",
       "\n",
       "    .dataframe thead th {\n",
       "        text-align: right;\n",
       "    }\n",
       "</style>\n",
       "<table border=\"1\" class=\"dataframe\">\n",
       "  <thead>\n",
       "    <tr style=\"text-align: right;\">\n",
       "      <th></th>\n",
       "      <th>ProductPrice</th>\n",
       "      <th>Discount</th>\n",
       "      <th>NumberofReviews</th>\n",
       "      <th>Rate</th>\n",
       "      <th>Review</th>\n",
       "      <th>Summary</th>\n",
       "      <th>clean</th>\n",
       "      <th>Polarity</th>\n",
       "      <th>Analysis</th>\n",
       "    </tr>\n",
       "  </thead>\n",
       "  <tbody>\n",
       "    <tr>\n",
       "      <th>0</th>\n",
       "      <td>3999.0</td>\n",
       "      <td>43</td>\n",
       "      <td>7</td>\n",
       "      <td>5.0\\n</td>\n",
       "      <td>Fantastic product</td>\n",
       "      <td>Very good product in this price range..</td>\n",
       "      <td>goodproductpricerange</td>\n",
       "      <td>0.0</td>\n",
       "      <td>Negative</td>\n",
       "    </tr>\n",
       "    <tr>\n",
       "      <th>1</th>\n",
       "      <td>3999.0</td>\n",
       "      <td>43</td>\n",
       "      <td>7</td>\n",
       "      <td>5.0\\n</td>\n",
       "      <td>Outstanding</td>\n",
       "      <td>Outstanding Product</td>\n",
       "      <td>outstandingproduct</td>\n",
       "      <td>0.0</td>\n",
       "      <td>Negative</td>\n",
       "    </tr>\n",
       "    <tr>\n",
       "      <th>2</th>\n",
       "      <td>3999.0</td>\n",
       "      <td>43</td>\n",
       "      <td>7</td>\n",
       "      <td>5.0\\n</td>\n",
       "      <td>Awesome</td>\n",
       "      <td>Works like a charm. Good sound quality. Visual...</td>\n",
       "      <td>worklikecharmgoodsoundqualityvisuallyattractivev1</td>\n",
       "      <td>0.0</td>\n",
       "      <td>Negative</td>\n",
       "    </tr>\n",
       "    <tr>\n",
       "      <th>3</th>\n",
       "      <td>3999.0</td>\n",
       "      <td>43</td>\n",
       "      <td>7</td>\n",
       "      <td>5.0\\n</td>\n",
       "      <td>Boat stone 1000 v2</td>\n",
       "      <td>Great</td>\n",
       "      <td>great</td>\n",
       "      <td>0.8</td>\n",
       "      <td>Positive</td>\n",
       "    </tr>\n",
       "    <tr>\n",
       "      <th>4</th>\n",
       "      <td>3999.0</td>\n",
       "      <td>43</td>\n",
       "      <td>7</td>\n",
       "      <td>5.0\\n</td>\n",
       "      <td>Quality sound</td>\n",
       "      <td>Amazing sound quality.totally premium.&amp;.afford...</td>\n",
       "      <td>amazesoundqualitytotallypremiumaffordable</td>\n",
       "      <td>0.0</td>\n",
       "      <td>Negative</td>\n",
       "    </tr>\n",
       "  </tbody>\n",
       "</table>\n",
       "</div>"
      ],
      "text/plain": [
       "   ProductPrice Discount NumberofReviews        Rate              Review  \\\n",
       "0        3999.0       43               7   5.0\\n       Fantastic product   \n",
       "1        3999.0       43               7   5.0\\n             Outstanding   \n",
       "2        3999.0       43               7   5.0\\n                 Awesome   \n",
       "3        3999.0       43               7   5.0\\n      Boat stone 1000 v2   \n",
       "4        3999.0       43               7   5.0\\n           Quality sound   \n",
       "\n",
       "                                             Summary  \\\n",
       "0            Very good product in this price range..   \n",
       "1                                Outstanding Product   \n",
       "2  Works like a charm. Good sound quality. Visual...   \n",
       "3                                              Great   \n",
       "4  Amazing sound quality.totally premium.&.afford...   \n",
       "\n",
       "                                               clean  Polarity  Analysis  \n",
       "0                              goodproductpricerange       0.0  Negative  \n",
       "1                                 outstandingproduct       0.0  Negative  \n",
       "2  worklikecharmgoodsoundqualityvisuallyattractivev1       0.0  Negative  \n",
       "3                                              great       0.8  Positive  \n",
       "4          amazesoundqualitytotallypremiumaffordable       0.0  Negative  "
      ]
     },
     "execution_count": 78,
     "metadata": {},
     "output_type": "execute_result"
    }
   ],
   "source": [
    "boat_review_df.head() "
   ]
  },
  {
   "cell_type": "code",
   "execution_count": 71,
   "metadata": {},
   "outputs": [
    {
     "data": {
      "text/plain": [
       "0                                   goodproductpricerange\n",
       "1                                      outstandingproduct\n",
       "2       worklikecharmgoodsoundqualityvisuallyattractivev1\n",
       "3                                                   great\n",
       "4               amazesoundqualitytotallypremiumaffordable\n",
       "                              ...                        \n",
       "1442    definitelyworthmoneysimilarpriceswaybetterskul...\n",
       "1444     monthsfullysatisfyrockerzproawesomebatterybackup\n",
       "1445                         soundqualitygoodbestmaterial\n",
       "1446                      bestservicebestproductstaisfied\n",
       "1447    haventhearfriendssaytuearphoneshatakebaatkarbc...\n",
       "Name: clean, Length: 874, dtype: object"
      ]
     },
     "execution_count": 71,
     "metadata": {},
     "output_type": "execute_result"
    }
   ],
   "source": [
    "boat_review_df['clean'] "
   ]
  },
  {
   "cell_type": "code",
   "execution_count": 72,
   "metadata": {},
   "outputs": [],
   "source": [
    "from textblob import TextBlob\n",
    "def getPolarity(review):\n",
    "    return TextBlob(review).sentiment.polarity\n",
    "\n",
    "def analysis(score):\n",
    "    if score <= 0:\n",
    "        return 'Negative'   \n",
    "    elif score >= 0.6:\n",
    "        return 'Positive'   \n",
    "    else:\n",
    "        return 'Neutral'   "
   ]
  },
  {
   "cell_type": "code",
   "execution_count": 73,
   "metadata": {},
   "outputs": [
    {
     "data": {
      "text/html": [
       "<div>\n",
       "<style scoped>\n",
       "    .dataframe tbody tr th:only-of-type {\n",
       "        vertical-align: middle;\n",
       "    }\n",
       "\n",
       "    .dataframe tbody tr th {\n",
       "        vertical-align: top;\n",
       "    }\n",
       "\n",
       "    .dataframe thead th {\n",
       "        text-align: right;\n",
       "    }\n",
       "</style>\n",
       "<table border=\"1\" class=\"dataframe\">\n",
       "  <thead>\n",
       "    <tr style=\"text-align: right;\">\n",
       "      <th></th>\n",
       "      <th>ProductPrice</th>\n",
       "      <th>Discount</th>\n",
       "      <th>NumberofReviews</th>\n",
       "      <th>Rate</th>\n",
       "      <th>Review</th>\n",
       "      <th>Summary</th>\n",
       "      <th>clean</th>\n",
       "      <th>Polarity</th>\n",
       "      <th>Analysis</th>\n",
       "    </tr>\n",
       "  </thead>\n",
       "  <tbody>\n",
       "    <tr>\n",
       "      <th>0</th>\n",
       "      <td>3999.0</td>\n",
       "      <td>43</td>\n",
       "      <td>7</td>\n",
       "      <td>5.0\\n</td>\n",
       "      <td>Fantastic product</td>\n",
       "      <td>Very good product in this price range..</td>\n",
       "      <td>goodproductpricerange</td>\n",
       "      <td>0.0</td>\n",
       "      <td>Negative</td>\n",
       "    </tr>\n",
       "    <tr>\n",
       "      <th>1</th>\n",
       "      <td>3999.0</td>\n",
       "      <td>43</td>\n",
       "      <td>7</td>\n",
       "      <td>5.0\\n</td>\n",
       "      <td>Outstanding</td>\n",
       "      <td>Outstanding Product</td>\n",
       "      <td>outstandingproduct</td>\n",
       "      <td>0.0</td>\n",
       "      <td>Negative</td>\n",
       "    </tr>\n",
       "    <tr>\n",
       "      <th>2</th>\n",
       "      <td>3999.0</td>\n",
       "      <td>43</td>\n",
       "      <td>7</td>\n",
       "      <td>5.0\\n</td>\n",
       "      <td>Awesome</td>\n",
       "      <td>Works like a charm. Good sound quality. Visual...</td>\n",
       "      <td>worklikecharmgoodsoundqualityvisuallyattractivev1</td>\n",
       "      <td>0.0</td>\n",
       "      <td>Negative</td>\n",
       "    </tr>\n",
       "    <tr>\n",
       "      <th>3</th>\n",
       "      <td>3999.0</td>\n",
       "      <td>43</td>\n",
       "      <td>7</td>\n",
       "      <td>5.0\\n</td>\n",
       "      <td>Boat stone 1000 v2</td>\n",
       "      <td>Great</td>\n",
       "      <td>great</td>\n",
       "      <td>0.8</td>\n",
       "      <td>Positive</td>\n",
       "    </tr>\n",
       "    <tr>\n",
       "      <th>4</th>\n",
       "      <td>3999.0</td>\n",
       "      <td>43</td>\n",
       "      <td>7</td>\n",
       "      <td>5.0\\n</td>\n",
       "      <td>Quality sound</td>\n",
       "      <td>Amazing sound quality.totally premium.&amp;.afford...</td>\n",
       "      <td>amazesoundqualitytotallypremiumaffordable</td>\n",
       "      <td>0.0</td>\n",
       "      <td>Negative</td>\n",
       "    </tr>\n",
       "  </tbody>\n",
       "</table>\n",
       "</div>"
      ],
      "text/plain": [
       "   ProductPrice Discount NumberofReviews        Rate              Review  \\\n",
       "0        3999.0       43               7   5.0\\n       Fantastic product   \n",
       "1        3999.0       43               7   5.0\\n             Outstanding   \n",
       "2        3999.0       43               7   5.0\\n                 Awesome   \n",
       "3        3999.0       43               7   5.0\\n      Boat stone 1000 v2   \n",
       "4        3999.0       43               7   5.0\\n           Quality sound   \n",
       "\n",
       "                                             Summary  \\\n",
       "0            Very good product in this price range..   \n",
       "1                                Outstanding Product   \n",
       "2  Works like a charm. Good sound quality. Visual...   \n",
       "3                                              Great   \n",
       "4  Amazing sound quality.totally premium.&.afford...   \n",
       "\n",
       "                                               clean  Polarity  Analysis  \n",
       "0                              goodproductpricerange       0.0  Negative  \n",
       "1                                 outstandingproduct       0.0  Negative  \n",
       "2  worklikecharmgoodsoundqualityvisuallyattractivev1       0.0  Negative  \n",
       "3                                              great       0.8  Positive  \n",
       "4          amazesoundqualitytotallypremiumaffordable       0.0  Negative  "
      ]
     },
     "execution_count": 73,
     "metadata": {},
     "output_type": "execute_result"
    }
   ],
   "source": [
    "boat_review_df['Polarity'] = boat_review_df['clean'].apply(getPolarity)\n",
    "boat_review_df['Analysis'] = boat_review_df['Polarity'].apply(analysis)\n",
    "boat_review_df.head()    "
   ]
  },
  {
   "cell_type": "code",
   "execution_count": 74,
   "metadata": {},
   "outputs": [],
   "source": [
    "from sklearn.model_selection import train_test_split\n",
    "x = boat_review_df['clean']\n",
    "y = boat_review_df['Analysis']\n",
    "x_train,x_test,y_train,y_test = train_test_split(x,y,test_size = 0.3, random_state = 1)"
   ]
  },
  {
   "cell_type": "code",
   "execution_count": 75,
   "metadata": {},
   "outputs": [
    {
     "ename": "ValueError",
     "evalue": "could not convert string to float: 'workgoodnice'",
     "output_type": "error",
     "traceback": [
      "\u001b[0;31m---------------------------------------------------------------------------\u001b[0m",
      "\u001b[0;31mValueError\u001b[0m                                Traceback (most recent call last)",
      "Cell \u001b[0;32mIn[75], line 3\u001b[0m\n\u001b[1;32m      1\u001b[0m \u001b[39mfrom\u001b[39;00m \u001b[39msklearn\u001b[39;00m\u001b[39m.\u001b[39;00m\u001b[39mlinear_model\u001b[39;00m \u001b[39mimport\u001b[39;00m LogisticRegression\n\u001b[1;32m      2\u001b[0m lr \u001b[39m=\u001b[39m LogisticRegression()\n\u001b[0;32m----> 3\u001b[0m lr\u001b[39m.\u001b[39;49mfit(x_train,y_train)\n",
      "File \u001b[0;32m~/.local/lib/python3.10/site-packages/sklearn/linear_model/_logistic.py:1196\u001b[0m, in \u001b[0;36mLogisticRegression.fit\u001b[0;34m(self, X, y, sample_weight)\u001b[0m\n\u001b[1;32m   1193\u001b[0m \u001b[39melse\u001b[39;00m:\n\u001b[1;32m   1194\u001b[0m     _dtype \u001b[39m=\u001b[39m [np\u001b[39m.\u001b[39mfloat64, np\u001b[39m.\u001b[39mfloat32]\n\u001b[0;32m-> 1196\u001b[0m X, y \u001b[39m=\u001b[39m \u001b[39mself\u001b[39;49m\u001b[39m.\u001b[39;49m_validate_data(\n\u001b[1;32m   1197\u001b[0m     X,\n\u001b[1;32m   1198\u001b[0m     y,\n\u001b[1;32m   1199\u001b[0m     accept_sparse\u001b[39m=\u001b[39;49m\u001b[39m\"\u001b[39;49m\u001b[39mcsr\u001b[39;49m\u001b[39m\"\u001b[39;49m,\n\u001b[1;32m   1200\u001b[0m     dtype\u001b[39m=\u001b[39;49m_dtype,\n\u001b[1;32m   1201\u001b[0m     order\u001b[39m=\u001b[39;49m\u001b[39m\"\u001b[39;49m\u001b[39mC\u001b[39;49m\u001b[39m\"\u001b[39;49m,\n\u001b[1;32m   1202\u001b[0m     accept_large_sparse\u001b[39m=\u001b[39;49msolver \u001b[39mnot\u001b[39;49;00m \u001b[39min\u001b[39;49;00m [\u001b[39m\"\u001b[39;49m\u001b[39mliblinear\u001b[39;49m\u001b[39m\"\u001b[39;49m, \u001b[39m\"\u001b[39;49m\u001b[39msag\u001b[39;49m\u001b[39m\"\u001b[39;49m, \u001b[39m\"\u001b[39;49m\u001b[39msaga\u001b[39;49m\u001b[39m\"\u001b[39;49m],\n\u001b[1;32m   1203\u001b[0m )\n\u001b[1;32m   1204\u001b[0m check_classification_targets(y)\n\u001b[1;32m   1205\u001b[0m \u001b[39mself\u001b[39m\u001b[39m.\u001b[39mclasses_ \u001b[39m=\u001b[39m np\u001b[39m.\u001b[39munique(y)\n",
      "File \u001b[0;32m~/.local/lib/python3.10/site-packages/sklearn/base.py:584\u001b[0m, in \u001b[0;36mBaseEstimator._validate_data\u001b[0;34m(self, X, y, reset, validate_separately, **check_params)\u001b[0m\n\u001b[1;32m    582\u001b[0m         y \u001b[39m=\u001b[39m check_array(y, input_name\u001b[39m=\u001b[39m\u001b[39m\"\u001b[39m\u001b[39my\u001b[39m\u001b[39m\"\u001b[39m, \u001b[39m*\u001b[39m\u001b[39m*\u001b[39mcheck_y_params)\n\u001b[1;32m    583\u001b[0m     \u001b[39melse\u001b[39;00m:\n\u001b[0;32m--> 584\u001b[0m         X, y \u001b[39m=\u001b[39m check_X_y(X, y, \u001b[39m*\u001b[39;49m\u001b[39m*\u001b[39;49mcheck_params)\n\u001b[1;32m    585\u001b[0m     out \u001b[39m=\u001b[39m X, y\n\u001b[1;32m    587\u001b[0m \u001b[39mif\u001b[39;00m \u001b[39mnot\u001b[39;00m no_val_X \u001b[39mand\u001b[39;00m check_params\u001b[39m.\u001b[39mget(\u001b[39m\"\u001b[39m\u001b[39mensure_2d\u001b[39m\u001b[39m\"\u001b[39m, \u001b[39mTrue\u001b[39;00m):\n",
      "File \u001b[0;32m~/.local/lib/python3.10/site-packages/sklearn/utils/validation.py:1106\u001b[0m, in \u001b[0;36mcheck_X_y\u001b[0;34m(X, y, accept_sparse, accept_large_sparse, dtype, order, copy, force_all_finite, ensure_2d, allow_nd, multi_output, ensure_min_samples, ensure_min_features, y_numeric, estimator)\u001b[0m\n\u001b[1;32m   1101\u001b[0m         estimator_name \u001b[39m=\u001b[39m _check_estimator_name(estimator)\n\u001b[1;32m   1102\u001b[0m     \u001b[39mraise\u001b[39;00m \u001b[39mValueError\u001b[39;00m(\n\u001b[1;32m   1103\u001b[0m         \u001b[39mf\u001b[39m\u001b[39m\"\u001b[39m\u001b[39m{\u001b[39;00mestimator_name\u001b[39m}\u001b[39;00m\u001b[39m requires y to be passed, but the target y is None\u001b[39m\u001b[39m\"\u001b[39m\n\u001b[1;32m   1104\u001b[0m     )\n\u001b[0;32m-> 1106\u001b[0m X \u001b[39m=\u001b[39m check_array(\n\u001b[1;32m   1107\u001b[0m     X,\n\u001b[1;32m   1108\u001b[0m     accept_sparse\u001b[39m=\u001b[39;49maccept_sparse,\n\u001b[1;32m   1109\u001b[0m     accept_large_sparse\u001b[39m=\u001b[39;49maccept_large_sparse,\n\u001b[1;32m   1110\u001b[0m     dtype\u001b[39m=\u001b[39;49mdtype,\n\u001b[1;32m   1111\u001b[0m     order\u001b[39m=\u001b[39;49morder,\n\u001b[1;32m   1112\u001b[0m     copy\u001b[39m=\u001b[39;49mcopy,\n\u001b[1;32m   1113\u001b[0m     force_all_finite\u001b[39m=\u001b[39;49mforce_all_finite,\n\u001b[1;32m   1114\u001b[0m     ensure_2d\u001b[39m=\u001b[39;49mensure_2d,\n\u001b[1;32m   1115\u001b[0m     allow_nd\u001b[39m=\u001b[39;49mallow_nd,\n\u001b[1;32m   1116\u001b[0m     ensure_min_samples\u001b[39m=\u001b[39;49mensure_min_samples,\n\u001b[1;32m   1117\u001b[0m     ensure_min_features\u001b[39m=\u001b[39;49mensure_min_features,\n\u001b[1;32m   1118\u001b[0m     estimator\u001b[39m=\u001b[39;49mestimator,\n\u001b[1;32m   1119\u001b[0m     input_name\u001b[39m=\u001b[39;49m\u001b[39m\"\u001b[39;49m\u001b[39mX\u001b[39;49m\u001b[39m\"\u001b[39;49m,\n\u001b[1;32m   1120\u001b[0m )\n\u001b[1;32m   1122\u001b[0m y \u001b[39m=\u001b[39m _check_y(y, multi_output\u001b[39m=\u001b[39mmulti_output, y_numeric\u001b[39m=\u001b[39my_numeric, estimator\u001b[39m=\u001b[39mestimator)\n\u001b[1;32m   1124\u001b[0m check_consistent_length(X, y)\n",
      "File \u001b[0;32m~/.local/lib/python3.10/site-packages/sklearn/utils/validation.py:879\u001b[0m, in \u001b[0;36mcheck_array\u001b[0;34m(array, accept_sparse, accept_large_sparse, dtype, order, copy, force_all_finite, ensure_2d, allow_nd, ensure_min_samples, ensure_min_features, estimator, input_name)\u001b[0m\n\u001b[1;32m    877\u001b[0m         array \u001b[39m=\u001b[39m xp\u001b[39m.\u001b[39mastype(array, dtype, copy\u001b[39m=\u001b[39m\u001b[39mFalse\u001b[39;00m)\n\u001b[1;32m    878\u001b[0m     \u001b[39melse\u001b[39;00m:\n\u001b[0;32m--> 879\u001b[0m         array \u001b[39m=\u001b[39m _asarray_with_order(array, order\u001b[39m=\u001b[39;49morder, dtype\u001b[39m=\u001b[39;49mdtype, xp\u001b[39m=\u001b[39;49mxp)\n\u001b[1;32m    880\u001b[0m \u001b[39mexcept\u001b[39;00m ComplexWarning \u001b[39mas\u001b[39;00m complex_warning:\n\u001b[1;32m    881\u001b[0m     \u001b[39mraise\u001b[39;00m \u001b[39mValueError\u001b[39;00m(\n\u001b[1;32m    882\u001b[0m         \u001b[39m\"\u001b[39m\u001b[39mComplex data not supported\u001b[39m\u001b[39m\\n\u001b[39;00m\u001b[39m{}\u001b[39;00m\u001b[39m\\n\u001b[39;00m\u001b[39m\"\u001b[39m\u001b[39m.\u001b[39mformat(array)\n\u001b[1;32m    883\u001b[0m     ) \u001b[39mfrom\u001b[39;00m \u001b[39mcomplex_warning\u001b[39;00m\n",
      "File \u001b[0;32m~/.local/lib/python3.10/site-packages/sklearn/utils/_array_api.py:185\u001b[0m, in \u001b[0;36m_asarray_with_order\u001b[0;34m(array, dtype, order, copy, xp)\u001b[0m\n\u001b[1;32m    182\u001b[0m     xp, _ \u001b[39m=\u001b[39m get_namespace(array)\n\u001b[1;32m    183\u001b[0m \u001b[39mif\u001b[39;00m xp\u001b[39m.\u001b[39m\u001b[39m__name__\u001b[39m \u001b[39min\u001b[39;00m {\u001b[39m\"\u001b[39m\u001b[39mnumpy\u001b[39m\u001b[39m\"\u001b[39m, \u001b[39m\"\u001b[39m\u001b[39mnumpy.array_api\u001b[39m\u001b[39m\"\u001b[39m}:\n\u001b[1;32m    184\u001b[0m     \u001b[39m# Use NumPy API to support order\u001b[39;00m\n\u001b[0;32m--> 185\u001b[0m     array \u001b[39m=\u001b[39m numpy\u001b[39m.\u001b[39;49masarray(array, order\u001b[39m=\u001b[39;49morder, dtype\u001b[39m=\u001b[39;49mdtype)\n\u001b[1;32m    186\u001b[0m     \u001b[39mreturn\u001b[39;00m xp\u001b[39m.\u001b[39masarray(array, copy\u001b[39m=\u001b[39mcopy)\n\u001b[1;32m    187\u001b[0m \u001b[39melse\u001b[39;00m:\n",
      "File \u001b[0;32m~/.local/lib/python3.10/site-packages/pandas/core/series.py:893\u001b[0m, in \u001b[0;36mSeries.__array__\u001b[0;34m(self, dtype)\u001b[0m\n\u001b[1;32m    846\u001b[0m \u001b[39mdef\u001b[39;00m \u001b[39m__array__\u001b[39m(\u001b[39mself\u001b[39m, dtype: npt\u001b[39m.\u001b[39mDTypeLike \u001b[39m|\u001b[39m \u001b[39mNone\u001b[39;00m \u001b[39m=\u001b[39m \u001b[39mNone\u001b[39;00m) \u001b[39m-\u001b[39m\u001b[39m>\u001b[39m np\u001b[39m.\u001b[39mndarray:\n\u001b[1;32m    847\u001b[0m \u001b[39m    \u001b[39m\u001b[39m\"\"\"\u001b[39;00m\n\u001b[1;32m    848\u001b[0m \u001b[39m    Return the values as a NumPy array.\u001b[39;00m\n\u001b[1;32m    849\u001b[0m \n\u001b[0;32m   (...)\u001b[0m\n\u001b[1;32m    891\u001b[0m \u001b[39m          dtype='datetime64[ns]')\u001b[39;00m\n\u001b[1;32m    892\u001b[0m \u001b[39m    \"\"\"\u001b[39;00m\n\u001b[0;32m--> 893\u001b[0m     \u001b[39mreturn\u001b[39;00m np\u001b[39m.\u001b[39;49masarray(\u001b[39mself\u001b[39;49m\u001b[39m.\u001b[39;49m_values, dtype)\n",
      "\u001b[0;31mValueError\u001b[0m: could not convert string to float: 'workgoodnice'"
     ]
    }
   ],
   "source": [
    "from sklearn.linear_model import LogisticRegression\n",
    "lr = LogisticRegression()\n",
    "lr.fit(x_train,y_train)"
   ]
  },
  {
   "cell_type": "code",
   "execution_count": 2,
   "metadata": {},
   "outputs": [
    {
     "name": "stdout",
     "output_type": "stream",
     "text": [
      "{'john': 4, 'is': 3, 'good': 2, 'boy': 1, 'watches': 5, 'basketball': 0}\n",
      "(1, 6)\n",
      "[[1 1 1 1 2 1]]\n"
     ]
    }
   ],
   "source": [
    "from sklearn.feature_extraction.text import CountVectorizer\n",
    "text = ['john is a good boy. John watches basketball']\n",
    "vectorizer = CountVectorizer()\n",
    "vectorizer.fit(text)\n",
    "print(vectorizer.vocabulary_)\n",
    "vector = vectorizer.transform(text)\n",
    "print(vector.shape)\n",
    "print(vector.toarray()) "
   ]
  },
  {
   "cell_type": "code",
   "execution_count": null,
   "metadata": {},
   "outputs": [],
   "source": []
  }
 ],
 "metadata": {
  "kernelspec": {
   "display_name": "Python 3",
   "language": "python",
   "name": "python3"
  },
  "language_info": {
   "codemirror_mode": {
    "name": "ipython",
    "version": 3
   },
   "file_extension": ".py",
   "mimetype": "text/x-python",
   "name": "python",
   "nbconvert_exporter": "python",
   "pygments_lexer": "ipython3",
   "version": "3.10.6"
  },
  "orig_nbformat": 4
 },
 "nbformat": 4,
 "nbformat_minor": 2
}
